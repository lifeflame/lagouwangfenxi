{
 "cells": [
  {
   "cell_type": "markdown",
   "metadata": {},
   "source": [
    "# 拉勾网数据分析岗位分析"
   ]
  },
  {
   "cell_type": "code",
   "execution_count": 46,
   "metadata": {},
   "outputs": [],
   "source": [
    "import pandas as pd\n",
    "import numpy as np\n",
    "import matplotlib as mpl\n",
    "import matplotlib.pyplot as plt\n",
    "%matplotlib inline\n",
    "plt.style.use('ggplot')"
   ]
  },
  {
   "cell_type": "code",
   "execution_count": 239,
   "metadata": {},
   "outputs": [
    {
     "data": {
      "text/html": [
       "<div>\n",
       "<style scoped>\n",
       "    .dataframe tbody tr th:only-of-type {\n",
       "        vertical-align: middle;\n",
       "    }\n",
       "\n",
       "    .dataframe tbody tr th {\n",
       "        vertical-align: top;\n",
       "    }\n",
       "\n",
       "    .dataframe thead th {\n",
       "        text-align: right;\n",
       "    }\n",
       "</style>\n",
       "<table border=\"1\" class=\"dataframe\">\n",
       "  <thead>\n",
       "    <tr style=\"text-align: right;\">\n",
       "      <th></th>\n",
       "      <th>city</th>\n",
       "      <th>companyFullName</th>\n",
       "      <th>companyId</th>\n",
       "      <th>companyLabelList</th>\n",
       "      <th>companyShortName</th>\n",
       "      <th>companySize</th>\n",
       "      <th>businessZones</th>\n",
       "      <th>firstType</th>\n",
       "      <th>secondType</th>\n",
       "      <th>education</th>\n",
       "      <th>industryField</th>\n",
       "      <th>positionId</th>\n",
       "      <th>positionAdvantage</th>\n",
       "      <th>positionName</th>\n",
       "      <th>positionLables</th>\n",
       "      <th>salary</th>\n",
       "      <th>workYear</th>\n",
       "    </tr>\n",
       "  </thead>\n",
       "  <tbody>\n",
       "    <tr>\n",
       "      <th>0</th>\n",
       "      <td>上海</td>\n",
       "      <td>纽海信息技术(上海)有限公司</td>\n",
       "      <td>8581</td>\n",
       "      <td>['技能培训', '节日礼物', '带薪年假', '岗位晋升']</td>\n",
       "      <td>1号店</td>\n",
       "      <td>2000人以上</td>\n",
       "      <td>['张江']</td>\n",
       "      <td>技术</td>\n",
       "      <td>数据开发</td>\n",
       "      <td>硕士</td>\n",
       "      <td>移动互联网</td>\n",
       "      <td>2537336</td>\n",
       "      <td>知名平台</td>\n",
       "      <td>数据分析师</td>\n",
       "      <td>['分析师', '数据分析', '数据挖掘', '数据']</td>\n",
       "      <td>7k-9k</td>\n",
       "      <td>应届毕业生</td>\n",
       "    </tr>\n",
       "    <tr>\n",
       "      <th>1</th>\n",
       "      <td>上海</td>\n",
       "      <td>上海点荣金融信息服务有限责任公司</td>\n",
       "      <td>23177</td>\n",
       "      <td>['节日礼物', '带薪年假', '岗位晋升', '扁平管理']</td>\n",
       "      <td>点融网</td>\n",
       "      <td>500-2000人</td>\n",
       "      <td>['五里桥', '打浦桥', '制造局路']</td>\n",
       "      <td>技术</td>\n",
       "      <td>数据开发</td>\n",
       "      <td>本科</td>\n",
       "      <td>金融</td>\n",
       "      <td>2427485</td>\n",
       "      <td>挑战机会,团队好,与大牛合作,工作环境好</td>\n",
       "      <td>数据分析师-CR2017-SH2909</td>\n",
       "      <td>['分析师', '数据分析', '数据挖掘', '数据']</td>\n",
       "      <td>10k-15k</td>\n",
       "      <td>应届毕业生</td>\n",
       "    </tr>\n",
       "    <tr>\n",
       "      <th>2</th>\n",
       "      <td>上海</td>\n",
       "      <td>上海晶樵网络信息技术有限公司</td>\n",
       "      <td>57561</td>\n",
       "      <td>['技能培训', '绩效奖金', '岗位晋升', '管理规范']</td>\n",
       "      <td>SPD</td>\n",
       "      <td>50-150人</td>\n",
       "      <td>['打浦桥']</td>\n",
       "      <td>设计</td>\n",
       "      <td>数据分析</td>\n",
       "      <td>本科</td>\n",
       "      <td>移动互联网</td>\n",
       "      <td>2511252</td>\n",
       "      <td>时间自由,领导nic</td>\n",
       "      <td>数据分析师</td>\n",
       "      <td>['分析师', '数据分析', '数据']</td>\n",
       "      <td>4k-6k</td>\n",
       "      <td>应届毕业生</td>\n",
       "    </tr>\n",
       "    <tr>\n",
       "      <th>3</th>\n",
       "      <td>上海</td>\n",
       "      <td>杭州数云信息技术有限公司上海分公司</td>\n",
       "      <td>7502</td>\n",
       "      <td>['绩效奖金', '股票期权', '五险一金', '通讯津贴']</td>\n",
       "      <td>数云</td>\n",
       "      <td>150-500人</td>\n",
       "      <td>['龙华', '上海体育场', '万体馆']</td>\n",
       "      <td>市场与销售</td>\n",
       "      <td>数据分析</td>\n",
       "      <td>本科</td>\n",
       "      <td>企业服务,数据服务</td>\n",
       "      <td>2427530</td>\n",
       "      <td>五险一金 绩效奖金 带薪年假 节日福利</td>\n",
       "      <td>大数据业务分析师【数云校招】</td>\n",
       "      <td>['商业', '分析师', '大数据', '数据']</td>\n",
       "      <td>6k-8k</td>\n",
       "      <td>应届毕业生</td>\n",
       "    </tr>\n",
       "    <tr>\n",
       "      <th>4</th>\n",
       "      <td>上海</td>\n",
       "      <td>上海银基富力信息技术有限公司</td>\n",
       "      <td>130876</td>\n",
       "      <td>['年底双薪', '通讯津贴', '定期体检', '绩效奖金']</td>\n",
       "      <td>银基富力</td>\n",
       "      <td>15-50人</td>\n",
       "      <td>['上海影城', '新华路', '虹桥']</td>\n",
       "      <td>技术</td>\n",
       "      <td>软件开发</td>\n",
       "      <td>本科</td>\n",
       "      <td>其他</td>\n",
       "      <td>2245819</td>\n",
       "      <td>在大牛下指导</td>\n",
       "      <td>BI开发/数据分析师</td>\n",
       "      <td>['分析师', '数据分析', '数据', 'BI']</td>\n",
       "      <td>2k-3k</td>\n",
       "      <td>应届毕业生</td>\n",
       "    </tr>\n",
       "  </tbody>\n",
       "</table>\n",
       "</div>"
      ],
      "text/plain": [
       "  city    companyFullName  companyId                  companyLabelList  \\\n",
       "0   上海     纽海信息技术(上海)有限公司       8581  ['技能培训', '节日礼物', '带薪年假', '岗位晋升']   \n",
       "1   上海   上海点荣金融信息服务有限责任公司      23177  ['节日礼物', '带薪年假', '岗位晋升', '扁平管理']   \n",
       "2   上海     上海晶樵网络信息技术有限公司      57561  ['技能培训', '绩效奖金', '岗位晋升', '管理规范']   \n",
       "3   上海  杭州数云信息技术有限公司上海分公司       7502  ['绩效奖金', '股票期权', '五险一金', '通讯津贴']   \n",
       "4   上海     上海银基富力信息技术有限公司     130876  ['年底双薪', '通讯津贴', '定期体检', '绩效奖金']   \n",
       "\n",
       "  companyShortName companySize           businessZones firstType secondType  \\\n",
       "0              1号店     2000人以上                  ['张江']        技术       数据开发   \n",
       "1              点融网   500-2000人  ['五里桥', '打浦桥', '制造局路']        技术       数据开发   \n",
       "2              SPD     50-150人                 ['打浦桥']        设计       数据分析   \n",
       "3               数云    150-500人  ['龙华', '上海体育场', '万体馆']     市场与销售       数据分析   \n",
       "4             银基富力      15-50人   ['上海影城', '新华路', '虹桥']        技术       软件开发   \n",
       "\n",
       "  education industryField  positionId     positionAdvantage  \\\n",
       "0        硕士         移动互联网     2537336                  知名平台   \n",
       "1        本科            金融     2427485  挑战机会,团队好,与大牛合作,工作环境好   \n",
       "2        本科         移动互联网     2511252            时间自由,领导nic   \n",
       "3        本科     企业服务,数据服务     2427530   五险一金 绩效奖金 带薪年假 节日福利   \n",
       "4        本科            其他     2245819                在大牛下指导   \n",
       "\n",
       "          positionName                 positionLables   salary workYear  \n",
       "0                数据分析师  ['分析师', '数据分析', '数据挖掘', '数据']    7k-9k    应届毕业生  \n",
       "1  数据分析师-CR2017-SH2909  ['分析师', '数据分析', '数据挖掘', '数据']  10k-15k    应届毕业生  \n",
       "2                数据分析师          ['分析师', '数据分析', '数据']    4k-6k    应届毕业生  \n",
       "3       大数据业务分析师【数云校招】     ['商业', '分析师', '大数据', '数据']    6k-8k    应届毕业生  \n",
       "4           BI开发/数据分析师    ['分析师', '数据分析', '数据', 'BI']    2k-3k    应届毕业生  "
      ]
     },
     "execution_count": 239,
     "metadata": {},
     "output_type": "execute_result"
    }
   ],
   "source": [
    "#读取文件数据\n",
    "df = pd.read_csv('C:/Users/17372/Desktop/data.csv',encoding='gb2312')\n",
    "df.head()"
   ]
  },
  {
   "cell_type": "code",
   "execution_count": 241,
   "metadata": {
    "scrolled": true
   },
   "outputs": [
    {
     "name": "stdout",
     "output_type": "stream",
     "text": [
      "<class 'pandas.core.frame.DataFrame'>\n",
      "RangeIndex: 6876 entries, 0 to 6875\n",
      "Data columns (total 17 columns):\n",
      "city                 6876 non-null object\n",
      "companyFullName      6876 non-null object\n",
      "companyId            6876 non-null int64\n",
      "companyLabelList     6170 non-null object\n",
      "companyShortName     6876 non-null object\n",
      "companySize          6876 non-null object\n",
      "businessZones        4873 non-null object\n",
      "firstType            6869 non-null object\n",
      "secondType           6870 non-null object\n",
      "education            6876 non-null object\n",
      "industryField        6876 non-null object\n",
      "positionId           6876 non-null int64\n",
      "positionAdvantage    6876 non-null object\n",
      "positionName         6876 non-null object\n",
      "positionLables       6844 non-null object\n",
      "salary               6876 non-null object\n",
      "workYear             6876 non-null object\n",
      "dtypes: int64(2), object(15)\n",
      "memory usage: 913.3+ KB\n"
     ]
    }
   ],
   "source": [
    "#快速查看数据信息\n",
    "df.info()"
   ]
  },
  {
   "cell_type": "markdown",
   "metadata": {},
   "source": [
    "## 数据清理"
   ]
  },
  {
   "cell_type": "code",
   "execution_count": 22,
   "metadata": {
    "scrolled": true
   },
   "outputs": [
    {
     "data": {
      "text/plain": [
       "5031"
      ]
     },
     "execution_count": 22,
     "metadata": {},
     "output_type": "execute_result"
    }
   ],
   "source": [
    "len(df.positionId.unique())"
   ]
  },
  {
   "cell_type": "markdown",
   "metadata": {},
   "source": [
    "positionId应该是唯一的，我们统计有6876条，但分析唯一值却仅有5031条，说明有重复值"
   ]
  },
  {
   "cell_type": "code",
   "execution_count": 23,
   "metadata": {},
   "outputs": [
    {
     "data": {
      "text/html": [
       "<div>\n",
       "<style scoped>\n",
       "    .dataframe tbody tr th:only-of-type {\n",
       "        vertical-align: middle;\n",
       "    }\n",
       "\n",
       "    .dataframe tbody tr th {\n",
       "        vertical-align: top;\n",
       "    }\n",
       "\n",
       "    .dataframe thead th {\n",
       "        text-align: right;\n",
       "    }\n",
       "</style>\n",
       "<table border=\"1\" class=\"dataframe\">\n",
       "  <thead>\n",
       "    <tr style=\"text-align: right;\">\n",
       "      <th></th>\n",
       "      <th>city</th>\n",
       "      <th>companyFullName</th>\n",
       "      <th>companyId</th>\n",
       "      <th>companyShortName</th>\n",
       "      <th>companySize</th>\n",
       "      <th>firstType</th>\n",
       "      <th>secondType</th>\n",
       "      <th>education</th>\n",
       "      <th>industryField</th>\n",
       "      <th>positionId</th>\n",
       "      <th>positionAdvantage</th>\n",
       "      <th>positionName</th>\n",
       "      <th>positionLables</th>\n",
       "      <th>salary</th>\n",
       "      <th>workYear</th>\n",
       "    </tr>\n",
       "  </thead>\n",
       "  <tbody>\n",
       "    <tr>\n",
       "      <th>0</th>\n",
       "      <td>上海</td>\n",
       "      <td>纽海信息技术(上海)有限公司</td>\n",
       "      <td>8581</td>\n",
       "      <td>1号店</td>\n",
       "      <td>2000人以上</td>\n",
       "      <td>技术</td>\n",
       "      <td>数据开发</td>\n",
       "      <td>硕士</td>\n",
       "      <td>移动互联网</td>\n",
       "      <td>2537336</td>\n",
       "      <td>知名平台</td>\n",
       "      <td>数据分析师</td>\n",
       "      <td>['分析师', '数据分析', '数据挖掘', '数据']</td>\n",
       "      <td>7k-9k</td>\n",
       "      <td>应届毕业生</td>\n",
       "    </tr>\n",
       "    <tr>\n",
       "      <th>1</th>\n",
       "      <td>上海</td>\n",
       "      <td>上海点荣金融信息服务有限责任公司</td>\n",
       "      <td>23177</td>\n",
       "      <td>点融网</td>\n",
       "      <td>500-2000人</td>\n",
       "      <td>技术</td>\n",
       "      <td>数据开发</td>\n",
       "      <td>本科</td>\n",
       "      <td>金融</td>\n",
       "      <td>2427485</td>\n",
       "      <td>挑战机会,团队好,与大牛合作,工作环境好</td>\n",
       "      <td>数据分析师-CR2017-SH2909</td>\n",
       "      <td>['分析师', '数据分析', '数据挖掘', '数据']</td>\n",
       "      <td>10k-15k</td>\n",
       "      <td>应届毕业生</td>\n",
       "    </tr>\n",
       "    <tr>\n",
       "      <th>2</th>\n",
       "      <td>上海</td>\n",
       "      <td>上海晶樵网络信息技术有限公司</td>\n",
       "      <td>57561</td>\n",
       "      <td>SPD</td>\n",
       "      <td>50-150人</td>\n",
       "      <td>设计</td>\n",
       "      <td>数据分析</td>\n",
       "      <td>本科</td>\n",
       "      <td>移动互联网</td>\n",
       "      <td>2511252</td>\n",
       "      <td>时间自由,领导nic</td>\n",
       "      <td>数据分析师</td>\n",
       "      <td>['分析师', '数据分析', '数据']</td>\n",
       "      <td>4k-6k</td>\n",
       "      <td>应届毕业生</td>\n",
       "    </tr>\n",
       "    <tr>\n",
       "      <th>3</th>\n",
       "      <td>上海</td>\n",
       "      <td>杭州数云信息技术有限公司上海分公司</td>\n",
       "      <td>7502</td>\n",
       "      <td>数云</td>\n",
       "      <td>150-500人</td>\n",
       "      <td>市场与销售</td>\n",
       "      <td>数据分析</td>\n",
       "      <td>本科</td>\n",
       "      <td>企业服务,数据服务</td>\n",
       "      <td>2427530</td>\n",
       "      <td>五险一金 绩效奖金 带薪年假 节日福利</td>\n",
       "      <td>大数据业务分析师【数云校招】</td>\n",
       "      <td>['商业', '分析师', '大数据', '数据']</td>\n",
       "      <td>6k-8k</td>\n",
       "      <td>应届毕业生</td>\n",
       "    </tr>\n",
       "    <tr>\n",
       "      <th>4</th>\n",
       "      <td>上海</td>\n",
       "      <td>上海银基富力信息技术有限公司</td>\n",
       "      <td>130876</td>\n",
       "      <td>银基富力</td>\n",
       "      <td>15-50人</td>\n",
       "      <td>技术</td>\n",
       "      <td>软件开发</td>\n",
       "      <td>本科</td>\n",
       "      <td>其他</td>\n",
       "      <td>2245819</td>\n",
       "      <td>在大牛下指导</td>\n",
       "      <td>BI开发/数据分析师</td>\n",
       "      <td>['分析师', '数据分析', '数据', 'BI']</td>\n",
       "      <td>2k-3k</td>\n",
       "      <td>应届毕业生</td>\n",
       "    </tr>\n",
       "  </tbody>\n",
       "</table>\n",
       "</div>"
      ],
      "text/plain": [
       "  city    companyFullName  companyId companyShortName companySize firstType  \\\n",
       "0   上海     纽海信息技术(上海)有限公司       8581              1号店     2000人以上        技术   \n",
       "1   上海   上海点荣金融信息服务有限责任公司      23177              点融网   500-2000人        技术   \n",
       "2   上海     上海晶樵网络信息技术有限公司      57561              SPD     50-150人        设计   \n",
       "3   上海  杭州数云信息技术有限公司上海分公司       7502               数云    150-500人     市场与销售   \n",
       "4   上海     上海银基富力信息技术有限公司     130876             银基富力      15-50人        技术   \n",
       "\n",
       "  secondType education industryField  positionId     positionAdvantage  \\\n",
       "0       数据开发        硕士         移动互联网     2537336                  知名平台   \n",
       "1       数据开发        本科            金融     2427485  挑战机会,团队好,与大牛合作,工作环境好   \n",
       "2       数据分析        本科         移动互联网     2511252            时间自由,领导nic   \n",
       "3       数据分析        本科     企业服务,数据服务     2427530   五险一金 绩效奖金 带薪年假 节日福利   \n",
       "4       软件开发        本科            其他     2245819                在大牛下指导   \n",
       "\n",
       "          positionName                 positionLables   salary workYear  \n",
       "0                数据分析师  ['分析师', '数据分析', '数据挖掘', '数据']    7k-9k    应届毕业生  \n",
       "1  数据分析师-CR2017-SH2909  ['分析师', '数据分析', '数据挖掘', '数据']  10k-15k    应届毕业生  \n",
       "2                数据分析师          ['分析师', '数据分析', '数据']    4k-6k    应届毕业生  \n",
       "3       大数据业务分析师【数云校招】     ['商业', '分析师', '大数据', '数据']    6k-8k    应届毕业生  \n",
       "4           BI开发/数据分析师    ['分析师', '数据分析', '数据', 'BI']    2k-3k    应届毕业生  "
      ]
     },
     "execution_count": 23,
     "metadata": {},
     "output_type": "execute_result"
    }
   ],
   "source": [
    "#清理不需要的字段\n",
    "new_data = df.drop(['companyLabelList','businessZones'],axis=1)\n",
    "#清理重复值\n",
    "clean_data = new_data.drop_duplicates(subset='positionId',keep='first')\n",
    "clean_data.head()"
   ]
  },
  {
   "cell_type": "markdown",
   "metadata": {},
   "source": [
    "因为拉勾网中的薪资是一个区间值，所以我们取其平均值作为薪酬值"
   ]
  },
  {
   "cell_type": "code",
   "execution_count": 32,
   "metadata": {},
   "outputs": [
    {
     "name": "stderr",
     "output_type": "stream",
     "text": [
      "C:\\ProgramData\\Anaconda3\\lib\\site-packages\\ipykernel_launcher.py:11: SettingWithCopyWarning: \n",
      "A value is trying to be set on a copy of a slice from a DataFrame.\n",
      "Try using .loc[row_indexer,col_indexer] = value instead\n",
      "\n",
      "See the caveats in the documentation: http://pandas.pydata.org/pandas-docs/stable/indexing.html#indexing-view-versus-copy\n",
      "  # This is added back by InteractiveShellApp.init_path()\n"
     ]
    },
    {
     "data": {
      "text/html": [
       "<div>\n",
       "<style scoped>\n",
       "    .dataframe tbody tr th:only-of-type {\n",
       "        vertical-align: middle;\n",
       "    }\n",
       "\n",
       "    .dataframe tbody tr th {\n",
       "        vertical-align: top;\n",
       "    }\n",
       "\n",
       "    .dataframe thead th {\n",
       "        text-align: right;\n",
       "    }\n",
       "</style>\n",
       "<table border=\"1\" class=\"dataframe\">\n",
       "  <thead>\n",
       "    <tr style=\"text-align: right;\">\n",
       "      <th></th>\n",
       "      <th>city</th>\n",
       "      <th>companyFullName</th>\n",
       "      <th>companyId</th>\n",
       "      <th>companyShortName</th>\n",
       "      <th>companySize</th>\n",
       "      <th>firstType</th>\n",
       "      <th>secondType</th>\n",
       "      <th>education</th>\n",
       "      <th>industryField</th>\n",
       "      <th>positionId</th>\n",
       "      <th>positionAdvantage</th>\n",
       "      <th>positionName</th>\n",
       "      <th>positionLables</th>\n",
       "      <th>salary</th>\n",
       "      <th>workYear</th>\n",
       "      <th>average_salary</th>\n",
       "    </tr>\n",
       "  </thead>\n",
       "  <tbody>\n",
       "    <tr>\n",
       "      <th>0</th>\n",
       "      <td>上海</td>\n",
       "      <td>纽海信息技术(上海)有限公司</td>\n",
       "      <td>8581</td>\n",
       "      <td>1号店</td>\n",
       "      <td>2000人以上</td>\n",
       "      <td>技术</td>\n",
       "      <td>数据开发</td>\n",
       "      <td>硕士</td>\n",
       "      <td>移动互联网</td>\n",
       "      <td>2537336</td>\n",
       "      <td>知名平台</td>\n",
       "      <td>数据分析师</td>\n",
       "      <td>['分析师', '数据分析', '数据挖掘', '数据']</td>\n",
       "      <td>7k-9k</td>\n",
       "      <td>应届毕业生</td>\n",
       "      <td>8.0</td>\n",
       "    </tr>\n",
       "    <tr>\n",
       "      <th>1</th>\n",
       "      <td>上海</td>\n",
       "      <td>上海点荣金融信息服务有限责任公司</td>\n",
       "      <td>23177</td>\n",
       "      <td>点融网</td>\n",
       "      <td>500-2000人</td>\n",
       "      <td>技术</td>\n",
       "      <td>数据开发</td>\n",
       "      <td>本科</td>\n",
       "      <td>金融</td>\n",
       "      <td>2427485</td>\n",
       "      <td>挑战机会,团队好,与大牛合作,工作环境好</td>\n",
       "      <td>数据分析师-CR2017-SH2909</td>\n",
       "      <td>['分析师', '数据分析', '数据挖掘', '数据']</td>\n",
       "      <td>10k-15k</td>\n",
       "      <td>应届毕业生</td>\n",
       "      <td>12.5</td>\n",
       "    </tr>\n",
       "    <tr>\n",
       "      <th>2</th>\n",
       "      <td>上海</td>\n",
       "      <td>上海晶樵网络信息技术有限公司</td>\n",
       "      <td>57561</td>\n",
       "      <td>SPD</td>\n",
       "      <td>50-150人</td>\n",
       "      <td>设计</td>\n",
       "      <td>数据分析</td>\n",
       "      <td>本科</td>\n",
       "      <td>移动互联网</td>\n",
       "      <td>2511252</td>\n",
       "      <td>时间自由,领导nic</td>\n",
       "      <td>数据分析师</td>\n",
       "      <td>['分析师', '数据分析', '数据']</td>\n",
       "      <td>4k-6k</td>\n",
       "      <td>应届毕业生</td>\n",
       "      <td>5.0</td>\n",
       "    </tr>\n",
       "    <tr>\n",
       "      <th>3</th>\n",
       "      <td>上海</td>\n",
       "      <td>杭州数云信息技术有限公司上海分公司</td>\n",
       "      <td>7502</td>\n",
       "      <td>数云</td>\n",
       "      <td>150-500人</td>\n",
       "      <td>市场与销售</td>\n",
       "      <td>数据分析</td>\n",
       "      <td>本科</td>\n",
       "      <td>企业服务,数据服务</td>\n",
       "      <td>2427530</td>\n",
       "      <td>五险一金 绩效奖金 带薪年假 节日福利</td>\n",
       "      <td>大数据业务分析师【数云校招】</td>\n",
       "      <td>['商业', '分析师', '大数据', '数据']</td>\n",
       "      <td>6k-8k</td>\n",
       "      <td>应届毕业生</td>\n",
       "      <td>7.0</td>\n",
       "    </tr>\n",
       "    <tr>\n",
       "      <th>4</th>\n",
       "      <td>上海</td>\n",
       "      <td>上海银基富力信息技术有限公司</td>\n",
       "      <td>130876</td>\n",
       "      <td>银基富力</td>\n",
       "      <td>15-50人</td>\n",
       "      <td>技术</td>\n",
       "      <td>软件开发</td>\n",
       "      <td>本科</td>\n",
       "      <td>其他</td>\n",
       "      <td>2245819</td>\n",
       "      <td>在大牛下指导</td>\n",
       "      <td>BI开发/数据分析师</td>\n",
       "      <td>['分析师', '数据分析', '数据', 'BI']</td>\n",
       "      <td>2k-3k</td>\n",
       "      <td>应届毕业生</td>\n",
       "      <td>2.5</td>\n",
       "    </tr>\n",
       "  </tbody>\n",
       "</table>\n",
       "</div>"
      ],
      "text/plain": [
       "  city    companyFullName  companyId companyShortName companySize firstType  \\\n",
       "0   上海     纽海信息技术(上海)有限公司       8581              1号店     2000人以上        技术   \n",
       "1   上海   上海点荣金融信息服务有限责任公司      23177              点融网   500-2000人        技术   \n",
       "2   上海     上海晶樵网络信息技术有限公司      57561              SPD     50-150人        设计   \n",
       "3   上海  杭州数云信息技术有限公司上海分公司       7502               数云    150-500人     市场与销售   \n",
       "4   上海     上海银基富力信息技术有限公司     130876             银基富力      15-50人        技术   \n",
       "\n",
       "  secondType education industryField  positionId     positionAdvantage  \\\n",
       "0       数据开发        硕士         移动互联网     2537336                  知名平台   \n",
       "1       数据开发        本科            金融     2427485  挑战机会,团队好,与大牛合作,工作环境好   \n",
       "2       数据分析        本科         移动互联网     2511252            时间自由,领导nic   \n",
       "3       数据分析        本科     企业服务,数据服务     2427530   五险一金 绩效奖金 带薪年假 节日福利   \n",
       "4       软件开发        本科            其他     2245819                在大牛下指导   \n",
       "\n",
       "          positionName                 positionLables   salary workYear  \\\n",
       "0                数据分析师  ['分析师', '数据分析', '数据挖掘', '数据']    7k-9k    应届毕业生   \n",
       "1  数据分析师-CR2017-SH2909  ['分析师', '数据分析', '数据挖掘', '数据']  10k-15k    应届毕业生   \n",
       "2                数据分析师          ['分析师', '数据分析', '数据']    4k-6k    应届毕业生   \n",
       "3       大数据业务分析师【数云校招】     ['商业', '分析师', '大数据', '数据']    6k-8k    应届毕业生   \n",
       "4           BI开发/数据分析师    ['分析师', '数据分析', '数据', 'BI']    2k-3k    应届毕业生   \n",
       "\n",
       "   average_salary  \n",
       "0             8.0  \n",
       "1            12.5  \n",
       "2             5.0  \n",
       "3             7.0  \n",
       "4             2.5  "
      ]
     },
     "execution_count": 32,
     "metadata": {},
     "output_type": "execute_result"
    }
   ],
   "source": [
    "def average(salary):\n",
    "    try:\n",
    "        s_list = salary.split('-')\n",
    "        min_salary = int(s_list[0][:-1])\n",
    "        max_salary = int(s_list[1][:-1])\n",
    "        average_salary = (min_salary+max_salary)/2\n",
    "    except ValueError:\n",
    "        s_list = salary.split('k')\n",
    "        average_salary = int(s_list[0])\n",
    "    return average_salary\n",
    "clean_data['average_salary'] = clean_data['salary'].apply(average)\n",
    "clean_data.head()"
   ]
  },
  {
   "cell_type": "markdown",
   "metadata": {},
   "source": [
    "### 地域性分析"
   ]
  },
  {
   "cell_type": "code",
   "execution_count": 87,
   "metadata": {},
   "outputs": [
    {
     "data": {
      "text/plain": [
       "<BarContainer object of 13 artists>"
      ]
     },
     "execution_count": 87,
     "metadata": {},
     "output_type": "execute_result"
    },
    {
     "data": {
      "image/png": "[encoded data removed]",
      "text/plain": [
       "<Figure size 1440x720 with 1 Axes>"
      ]
     },
     "metadata": {},
     "output_type": "display_data"
    }
   ],
   "source": [
    "font = mpl.font_manager.FontProperties(fname='C:/Windows/Fonts/simkai.ttf',size=18)\n",
    "font_small = mpl.font_manager.FontProperties(fname='C:/Windows/Fonts/simkai.ttf',size=12)\n",
    "count_by_city = clean_data.groupby('city').positionId.count().sort_values(ascending=False)\n",
    "fig = plt.figure(figsize=(20,10))\n",
    "ax = plt.subplot(111)\n",
    "ax.set_xticklabels(count_by_city.index,fontproperties=font)\n",
    "rect = ax.bar(count_by_city.index,count_by_city.values,width=0.5)\n",
    "ax.set_title('各城市需求量',fontproperties=font)\n",
    "rect"
   ]
  },
  {
   "cell_type": "markdown",
   "metadata": {},
   "source": [
    "分析图表可知，全国需求量最大的是北京，排在前五分别是：北京，上海，深圳，杭州，广州。<br>\n",
    "数据分析师这个职业大量需求都集中在北上广深四大一线城市以及杭州这个互联网和电子商务的聚集地，不过北京的需求量绝对是傲视所有其他的城市，这可能是大量互联网公司都集中在北京的原因<br>\n",
    "总而言之，想从事数据分析行业还是去前五的城市较好。"
   ]
  },
  {
   "cell_type": "markdown",
   "metadata": {},
   "source": [
    "### 工作经验需求分析"
   ]
  },
  {
   "cell_type": "code",
   "execution_count": 165,
   "metadata": {},
   "outputs": [
    {
     "data": {
      "text/plain": [
       "Text(0.5,1,'工作经验分布')"
      ]
     },
     "execution_count": 165,
     "metadata": {},
     "output_type": "execute_result"
    },
    {
     "data": {
      "image/png": "[encoded data removed]",
      "text/plain": [
       "<Figure size 720x360 with 1 Axes>"
      ]
     },
     "metadata": {},
     "output_type": "display_data"
    }
   ],
   "source": [
    "# 根据实际情况，将'应届毕业生'和'不限'改为'1年以下'\n",
    "clean_data['workYear'] = clean_data.workYear.replace(['应届毕业生','不限'],'1年以下')\n",
    "count_by_exp = clean_data.groupby('workYear').positionId.count().plot(kind='bar',figsize=(10,5))\n",
    "plt.xticks(rotation=30,fontproperties=font_small)\n",
    "plt.title('工作经验分布',fontproperties=font)"
   ]
  },
  {
   "cell_type": "markdown",
   "metadata": {},
   "source": [
    "分析图表可知，工作3-5年的需求量最大，1-3年紧接其后，10年以上的需求量非常稀少<br>\n",
    "由此我们可以推测：<br>\n",
    "1. 数据分析是个较为新兴的行业，大量的工作需求量集中在1-3年以及3-5年。\n",
    "2. 而且我们发现5年会是一个关键时期，所以需要学习更多的知识提高自己的市场竞争力。"
   ]
  },
  {
   "cell_type": "markdown",
   "metadata": {},
   "source": [
    "### 总薪酬分布"
   ]
  },
  {
   "cell_type": "code",
   "execution_count": 106,
   "metadata": {},
   "outputs": [
    {
     "data": {
      "text/plain": [
       "[<matplotlib.axis.XTick at 0x1c5f73b76d8>,\n",
       " <matplotlib.axis.XTick at 0x1c5f73b7048>,\n",
       " <matplotlib.axis.XTick at 0x1c5f73b0ef0>,\n",
       " <matplotlib.axis.XTick at 0x1c5f73f0cc0>,\n",
       " <matplotlib.axis.XTick at 0x1c5f73fd1d0>,\n",
       " <matplotlib.axis.XTick at 0x1c5f73fd6d8>,\n",
       " <matplotlib.axis.XTick at 0x1c5f73fdc18>,\n",
       " <matplotlib.axis.XTick at 0x1c5f7403198>,\n",
       " <matplotlib.axis.XTick at 0x1c5f74036d8>,\n",
       " <matplotlib.axis.XTick at 0x1c5f7403c18>,\n",
       " <matplotlib.axis.XTick at 0x1c5f7403780>,\n",
       " <matplotlib.axis.XTick at 0x1c5f73fd278>,\n",
       " <matplotlib.axis.XTick at 0x1c5f740d2e8>,\n",
       " <matplotlib.axis.XTick at 0x1c5f740d828>,\n",
       " <matplotlib.axis.XTick at 0x1c5f740dd68>,\n",
       " <matplotlib.axis.XTick at 0x1c5f74142e8>,\n",
       " <matplotlib.axis.XTick at 0x1c5f7414828>,\n",
       " <matplotlib.axis.XTick at 0x1c5f7414d68>,\n",
       " <matplotlib.axis.XTick at 0x1c5f741d2e8>]"
      ]
     },
     "execution_count": 106,
     "metadata": {},
     "output_type": "execute_result"
    },
    {
     "data": {
      "image/png": "[encoded data removed]",
      "text/plain": [
       "<Figure size 1080x504 with 1 Axes>"
      ]
     },
     "metadata": {},
     "output_type": "display_data"
    }
   ],
   "source": [
    "fig = plt.figure(figsize=(15,7))\n",
    "ax = plt.subplot(111)\n",
    "rect = ax.hist(clean_data['average_salary'],bins=15)\n",
    "ax.set_title('总薪酬分布',fontproperties=font)\n",
    "ax.set_xlabel('k/月',fontproperties=font_small)\n",
    "ax.set_xticks(range(5,100,5))"
   ]
  },
  {
   "cell_type": "markdown",
   "metadata": {},
   "source": [
    "分析可得，大部分人的薪资范围在5k-25k之间，其中分布最集中的是10k-15k之间的，因为我是取其中间值来进行分析的，所以实际薪资会比结果要高.<br>\n",
    "综合来看，数据分析师这个职业是一个不错的选择。"
   ]
  },
  {
   "cell_type": "markdown",
   "metadata": {},
   "source": [
    "## 综合分析"
   ]
  },
  {
   "cell_type": "markdown",
   "metadata": {},
   "source": [
    "### 各个城市薪酬分布情况"
   ]
  },
  {
   "cell_type": "code",
   "execution_count": 237,
   "metadata": {},
   "outputs": [
    {
     "data": {
      "text/plain": [
       "Text(0,0.5,'k/月')"
      ]
     },
     "execution_count": 237,
     "metadata": {},
     "output_type": "execute_result"
    },
    {
     "data": {
      "image/png": "[encoded data removed]",
      "text/plain": [
       "<Figure size 1080x504 with 1 Axes>"
      ]
     },
     "metadata": {},
     "output_type": "display_data"
    }
   ],
   "source": [
    "count_by_city_salary = clean_data.groupby('city').average_salary\n",
    "df1 = []\n",
    "for group in count_by_city.index:\n",
    "    a = count_by_city_salary.get_group(group).values\n",
    "    df1.append(a)\n",
    "fig = plt.figure(figsize=(15,7))\n",
    "ax = plt.subplot(111)\n",
    "rect = ax.boxplot(df1)\n",
    "ax.set_xticklabels(count_by_city.index,fontproperties=font_small)\n",
    "ax.set_title('不同城市薪酬分布情况',fontproperties=font)\n",
    "ax.set_ylabel('k/月',fontproperties=font_small)"
   ]
  },
  {
   "cell_type": "markdown",
   "metadata": {},
   "source": [
    "从图上看，薪酬分布和之前总的薪酬分布情况较为一致，北京市数据分析师薪资中位数达到20k,居全国首位，其次是深圳，上海，杭州。另外广州作为一个一线城市在数据分析方面的需求甚至不如成都，武汉，可以看出广州对于数据分析的需求不高。"
   ]
  },
  {
   "cell_type": "markdown",
   "metadata": {},
   "source": [
    "### 不同工作经验薪酬分布情况"
   ]
  },
  {
   "cell_type": "code",
   "execution_count": 236,
   "metadata": {},
   "outputs": [
    {
     "data": {
      "text/plain": [
       "[Text(0,0,'1-3年'),\n",
       " Text(0,0,'10年以上'),\n",
       " Text(0,0,'1年以下'),\n",
       " Text(0,0,'3-5年'),\n",
       " Text(0,0,'5-10年')]"
      ]
     },
     "execution_count": 236,
     "metadata": {},
     "output_type": "execute_result"
    },
    {
     "data": {
      "image/png": "[encoded data removed]",
      "text/plain": [
       "<Figure size 1152x576 with 1 Axes>"
      ]
     },
     "metadata": {},
     "output_type": "display_data"
    }
   ],
   "source": [
    "count_by_year = clean_data.groupby('workYear').positionId.count()\n",
    "count_by_exp_salary = clean_data.groupby('workYear').average_salary\n",
    "\n",
    "#提取出薪酬值并存入列表中\n",
    "df2 = []\n",
    "for name,group in count_by_exp_salary:\n",
    "    df2.append(group.values)\n",
    "\n",
    "fig = plt.figure(figsize=(16,8))\n",
    "ax = plt.subplot(111)\n",
    "rect = ax.boxplot(df2)\n",
    "label = ['1年以下','1-3年','3-5年','5-10年','10年以上']\n",
    "ax.set_title('不同经验薪酬分布',fontproperties=font)\n",
    "ax.set_ylabel('k/月',fontproperties=font_small)\n",
    "ax.set_xticks(np.arange(len(label)),label)\n",
    "ax.set_xticklabels(count_by_year.index,fontproperties=font_small)"
   ]
  },
  {
   "cell_type": "markdown",
   "metadata": {},
   "source": [
    "分析图表可知，随着经验的增加，薪酬水平也越来越高，在10年内不会因为年龄的增长而导致收入下降。"
   ]
  },
  {
   "cell_type": "markdown",
   "metadata": {},
   "source": [
    "### 不同城市对学历要求的分析"
   ]
  },
  {
   "cell_type": "code",
   "execution_count": 263,
   "metadata": {},
   "outputs": [
    {
     "data": {
      "text/plain": [
       "Text(0.5,1,'不同城市对学历的需求')"
      ]
     },
     "execution_count": 263,
     "metadata": {},
     "output_type": "execute_result"
    },
    {
     "data": {
      "image/png": "[encoded data removed]",
      "text/plain": [
       "<Figure size 1008x432 with 1 Axes>"
      ]
     },
     "metadata": {},
     "output_type": "display_data"
    }
   ],
   "source": [
    "ax = clean_data.groupby(['city','education']).average_salary.mean().unstack().plot.bar(figsize=(14,6))\n",
    "ax.set_xticklabels(count_by_city.index,fontproperties=font_small)\n",
    "ax.legend(prop = font_small)\n",
    "ax.set_title('不同城市对学历的需求',fontproperties=font)"
   ]
  },
  {
   "cell_type": "markdown",
   "metadata": {},
   "source": [
    "分析图表可知，苏州对博士学历有要求的公司最多，上海其次，北京第三，发现其他城市没有发现博士学历要求的，可能是样本较少，又或者说明这是一个较为新兴的行业，对学历的要求主要集中在本科以及硕士上，大专的竞争力较弱。"
   ]
  },
  {
   "cell_type": "markdown",
   "metadata": {},
   "source": [
    "## 结论"
   ]
  },
  {
   "cell_type": "markdown",
   "metadata": {},
   "source": [
    "通过以上的分析，我们可以得知：<br>\n",
    "1. 数据分析的岗位主要集中在北上广深以及杭州。\n",
    "2. 数据分析是一个新兴的行业，工作经验集中在1-5年内。\n",
    "3. 从待遇上看，大部分数据分析师的薪酬集中在5k-25k之间，只有少数人薪酬极高，综合起来看，想从事数据分析行业的最好选择北京，深圳这两个城市。\n",
    "4. 经验的提升，数据分析师的薪水也在不断提高，10年工作经验的人的薪酬极高。\n",
    "5. 对于学历而言，对博士学历的需求欲望最低，学历要求普遍集中在本科以及硕士，另外大专的需求较弱，竞争力不强。"
   ]
  },
  {
   "cell_type": "code",
   "execution_count": null,
   "metadata": {},
   "outputs": [],
   "source": []
  }
 ],
 "metadata": {
  "kernelspec": {
   "display_name": "Python 3",
   "language": "python",
   "name": "python3"
  },
  "language_info": {
   "codemirror_mode": {
    "name": "ipython",
    "version": 3
   },
   "file_extension": ".py",
   "mimetype": "text/x-python",
   "name": "python",
   "nbconvert_exporter": "python",
   "pygments_lexer": "ipython3",
   "version": "3.6.5"
  }
 },
 "nbformat": 4,
 "nbformat_minor": 2
}
